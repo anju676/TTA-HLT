{
  "nbformat": 4,
  "nbformat_minor": 0,
  "metadata": {
    "colab": {
      "name": "pandas",
      "provenance": [],
      "authorship_tag": "ABX9TyN+sS959rJuqFmI+r4746Hw",
      "include_colab_link": true
    },
    "kernelspec": {
      "name": "python3",
      "display_name": "Python 3"
    },
    "language_info": {
      "name": "python"
    }
  },
  "cells": [
    {
      "cell_type": "markdown",
      "metadata": {
        "id": "view-in-github",
        "colab_type": "text"
      },
      "source": [
        "<a href=\"https://colab.research.google.com/github/anju676/TTA-HLT/blob/main/pandas.ipynb\" target=\"_parent\"><img src=\"https://colab.research.google.com/assets/colab-badge.svg\" alt=\"Open In Colab\"/></a>"
      ]
    },
    {
      "cell_type": "code",
      "metadata": {
        "id": "mLEQDACatYM2"
      },
      "source": [
        "import pandas as pd\n",
        "hol_data= pd.read_csv(\"hol.csv\")\n",
        "print(data.shape)"
      ],
      "execution_count": null,
      "outputs": []
    },
    {
      "cell_type": "code",
      "metadata": {
        "id": "26VYQ9bRNxg_"
      },
      "source": [
        "import pandas as pd\n",
        "hol_data=pd.read_csv(\"hol_data.csv\")\n",
        "print(hol_data.iloc[2:8])"
      ],
      "execution_count": null,
      "outputs": []
    },
    {
      "cell_type": "code",
      "metadata": {
        "id": "qpIvmaJGQOuE"
      },
      "source": [
        "import pandas as pd\n",
        "data= pd.read_csv(\"inclusive hotel.csv\")\n",
        "data.mean()\n"
      ],
      "execution_count": null,
      "outputs": []
    },
    {
      "cell_type": "code",
      "metadata": {
        "id": "QGAKV1QGRgi3"
      },
      "source": [
        "import pandas as pd\n",
        "data=pd.read_csv(\"holiday destination\")\n",
        "if feedback score>7\n",
        "print"
      ],
      "execution_count": null,
      "outputs": []
    },
    {
      "cell_type": "code",
      "source": [
        "import pandas as pd\n",
        "data=pd.read_csv(\"inclusive hotel>9\")\n",
        "print (destination)\n"
      ],
      "metadata": {
        "id": "b9FWlUFh40IQ"
      },
      "execution_count": null,
      "outputs": []
    }
  ]
}